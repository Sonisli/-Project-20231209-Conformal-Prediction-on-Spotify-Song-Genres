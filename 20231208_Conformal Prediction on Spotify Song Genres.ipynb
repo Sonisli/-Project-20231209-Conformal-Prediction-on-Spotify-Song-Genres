{
 "cells": [
  {
   "cell_type": "markdown",
   "id": "95f7f2f4",
   "metadata": {},
   "source": [
    "# Conformal Prediction on Spotify Song Genres\n",
    "\n",
    "### Author:  Yicong Li\n",
    "### Date: 20231208"
   ]
  },
  {
   "cell_type": "markdown",
   "id": "4d6eecb3",
   "metadata": {},
   "source": [
    "## Abstract\n",
    "\n",
    "1. training a neural network on your data, including a plot of your loss vs. training iteration;\n",
    "2. a prediction interval calculated using conformal inference, including a written explanation of the result;\n",
    "3. a hypothesis test, including a written explanation of why you chose that specific hypothesis test, and an explanation of the results of the test."
   ]
  },
  {
   "cell_type": "code",
   "execution_count": 1,
   "id": "bcffd90f",
   "metadata": {},
   "outputs": [
    {
     "data": {
      "text/plain": [
       "True"
      ]
     },
     "execution_count": 1,
     "metadata": {},
     "output_type": "execute_result"
    }
   ],
   "source": [
    "import numpy as np\n",
    "import pandas as pd\n",
    "import seaborn as sns\n",
    "import matplotlib.pyplot as plt\n",
    "import torch\n",
    "import torch.nn as nn\n",
    "import torch.nn.functional as F\n",
    "from torch import optim\n",
    "from torch.utils.data import TensorDataset, DataLoader\n",
    "import warnings\n",
    "import itertools\n",
    "import os \n",
    "\n",
    "# added to solve dead kernel issue of plotting example figures\n",
    "os.environ[\"KMP_DUPLICATE_LIB_OK\"]=\"TRUE\"\n",
    "warnings.filterwarnings('ignore')\n",
    "torch.cuda.is_available()"
   ]
  },
  {
   "cell_type": "code",
   "execution_count": 2,
   "id": "734caff8",
   "metadata": {},
   "outputs": [
    {
     "name": "stdout",
     "output_type": "stream",
     "text": [
      "cuda:0\n"
     ]
    }
   ],
   "source": [
    "device = torch.device(\"cuda:0\" if torch.cuda.is_available() else \"cpu\")\n",
    "print(device)"
   ]
  },
  {
   "cell_type": "markdown",
   "id": "78f43464",
   "metadata": {},
   "source": [
    "## Problem Formulation\n",
    "\n",
    "### Objective\n",
    "\n",
    "To better make decides on genre classification of songs.We woud like to predict the likelihood of a song's genre mainly based on its sound features, using Neural Network with Conformal Prediction."
   ]
  },
  {
   "cell_type": "markdown",
   "id": "4641f551",
   "metadata": {},
   "source": [
    "## Data Acquisition and Integration\n",
    "\n",
    "### Data source\n",
    "\n",
    "The data comes from Kaggle.spotify_songs.csv contains Almost 30,000 Songs from the Spotify API. The download address is: https://www.kaggle.com/datasets/joebeachcapital/30000-spotify-songs/\n",
    "\n",
    "\n",
    "### Data description\n",
    "\n",
    "#### Key attributes\n",
    "* genres in \"playlist_genre\"\n",
    "* numerical feautres: \"track_popularity\", \"danceability\", \"energy\", \"key\", \"loudness\", \"mode\", \"speechiness\", \"acousticness\", \"instrumentalness\", \"liveness\", \"valence\", \"tempo\", \"duration_ms\"\n",
    "* unused features: \n",
    "    * \"track_artist\",\"track_album_id\", \"playlist_id\" (feature overload)\n",
    "    * \"playlist_subgenre\" (highly correlated to what we want to preidct) \n",
    "    * \"track_album_release_date\" (highly correlated to \"track_album_id\")\n",
    "    * \"track_id\" (uniquie for every song)\n",
    "    * \"track_name\", \"track_album_name\", \"playlist_name\" (function similarly as \"track_id\", \"track_album_id\", \"playlist_id\" respectively)\n",
    "\n",
    "| variable | class | description |\n",
    "| :- | :- | :- |\n",
    "| track_id | character | Song unique ID |\n",
    "| track_name | character | Song Name |\n",
    "| track_artist | character | Song Artist |\n",
    "| track_popularity | double | Song Popularity (0-100) where higher is better |\n",
    "| track_album_id | character | Album unique ID |\n",
    "| track_album_name | character | Song album name |\n",
    "| track_album_release_date | character | Date when album released |\n",
    "| playlist_name | character | Name of playlist |\n",
    "| playlist_id | character | Playlist ID |\n",
    "| playlist_genre | character | Playlist genre |\n",
    "| playlist_subgenre | character | Playlist subgenre |\n",
    "| danceability | double | Danceability describes how suitable a track is for dancing based on a combination of musical elements including tempo, rhythm stability, beat strength, and overall regularity. A value of 0.0 is least danceable and 1.0 is most danceable. |\n",
    "| energy | double | Energy is a measure from 0.0 to 1.0 and represents a perceptual measure of intensity and activity. Typically, energetic tracks feel fast, loud, and noisy. For example, death metal has high energy, while a Bach prelude scores low on the scale. Perceptual features contributing to this attribute include dynamic range, perceived loudness, timbre, onset rate, and general entropy. |\n",
    "| key | double | The estimated overall key of the track. Integers map to pitches using standard Pitch Class notation . E.g. 0 = C, 1 = C♯/D♭, 2 = D, and so on. If no key was detected, the value is -1. |\n",
    "| loudness | double | The overall loudness of a track in decibels (dB). Loudness values are averaged across the entire track and are useful for comparing relative loudness of tracks. Loudness is the quality of a sound that is the primary psychological correlate of physical strength (amplitude). Values typical range between -60 and 0 db. |\n",
    "| mode | double | Mode indicates the modality (major or minor) of a track, the type of scale from which its melodic content is derived. Major is represented by 1 and minor is 0. |\n",
    "| speechiness | double | Speechiness detects the presence of spoken words in a track. The more exclusively speech-like the recording (e.g. talk show, audio book, poetry), the closer to 1.0 the attribute value. Values above 0.66 describe tracks that are probably made entirely of spoken words. Values between 0.33 and 0.66 describe tracks that may contain both music and speech, either in sections or layered, including such cases as rap music. Values below 0.33 most likely represent music and other non-speech-like tracks. |\n",
    "| acousticness | double | A confidence measure from 0.0 to 1.0 of whether the track is acoustic. 1.0 represents high confidence the track is acoustic. |\n",
    "| instrumentalness | double | Predicts whether a track contains no vocals. \"Ooh\" and \"aah\" sounds are treated as instrumental in this context. Rap or spoken word tracks are clearly \"vocal\". The closer the instrumentalness value is to 1.0, the greater likelihood the track contains no vocal content. Values above 0.5 are intended to represent instrumental tracks, but confidence is higher as the value approaches 1.0. |\n",
    "| liveness | double | Detects the presence of an audience in the recording. Higher liveness values represent an increased probability that the track was performed live. A value above 0.8 provides strong likelihood that the track is live. |\n",
    "| valence | double | A measure from 0.0 to 1.0 describing the musical positiveness conveyed by a track. Tracks with high valence sound more positive (e.g. happy, cheerful, euphoric), while tracks with low valence sound more negative (e.g. sad, depressed, angry). |\n",
    "| tempo | double | The overall estimated tempo of a track in beats per minute (BPM). In musical terminology, tempo is the speed or pace of a given piece and derives directly from the average beat duration. |\n",
    "| duration_ms | double | Duration of song in milliseconds |\n",
    "\n",
    "### Data Preprocess"
   ]
  },
  {
   "cell_type": "code",
   "execution_count": 3,
   "id": "5630cbc2",
   "metadata": {},
   "outputs": [],
   "source": [
    "# Load data\n",
    "spotify_df = pd.read_csv('spotify_songs.csv')"
   ]
  },
  {
   "cell_type": "code",
   "execution_count": 4,
   "id": "d1af8d9a",
   "metadata": {},
   "outputs": [
    {
     "data": {
      "text/plain": [
       "array(['edm', 'rock', 'r&b', 'rap', 'latin', 'pop'], dtype=object)"
      ]
     },
     "execution_count": 4,
     "metadata": {},
     "output_type": "execute_result"
    }
   ],
   "source": [
    "# Shuffle the rows\n",
    "songs_df = spotify_df.sample(frac=1, random_state=42).reset_index(drop=True)\n",
    "\n",
    "#  Define the features relevant for genre prediction\n",
    "num_features = [\"track_popularity\", \"danceability\", \"energy\", \"key\", \"loudness\", \"mode\", \"speechiness\", \"acousticness\", \"instrumentalness\", \"liveness\", \"valence\", \"tempo\", \"duration_ms\"]\n",
    "cat_features = []\n",
    "\n",
    "# Drop playlist_subgenre\n",
    "songs_df.drop([\"track_artist\", \"track_id\", \"track_album_id\", \"playlist_id\", \"track_name\", \"track_album_name\", \"playlist_name\", \"track_album_release_date\", \"playlist_subgenre\"], axis=1, inplace = True)\n",
    "\n",
    "songs_df[\"playlist_genre\"].unique()  "
   ]
  },
  {
   "cell_type": "code",
   "execution_count": 5,
   "id": "a983bab1",
   "metadata": {},
   "outputs": [
    {
     "name": "stdout",
     "output_type": "stream",
     "text": [
      "   track_popularity  danceability  energy  key  loudness  mode  speechiness  \\\n",
      "0                45         0.520   0.789    0    -7.717     1       0.0432   \n",
      "1                17         0.651   0.661    9   -11.405     1       0.0511   \n",
      "2                30         0.640   0.758   10    -5.204     1       0.1600   \n",
      "3                35         0.398   0.966    4    -2.352     0       0.0453   \n",
      "4                62         0.447   0.625   10    -8.212     0       0.3230   \n",
      "\n",
      "   acousticness  instrumentalness  liveness  valence    tempo  duration_ms  \\\n",
      "0      0.004910          0.000013    0.0816    0.415  174.026       216347   \n",
      "1      0.265000          0.003130    0.1060    0.489  156.371       378707   \n",
      "2      0.665000          0.000000    0.1270    0.932   86.529       218044   \n",
      "3      0.000006          0.000000    0.3030    0.520   90.016       208196   \n",
      "4      0.035100          0.000727    0.2430    0.261   67.104       440013   \n",
      "\n",
      "   edm  latin  pop  r&b  rap  rock  \n",
      "0    1      0    0    0    0     0  \n",
      "1    0      0    0    0    0     1  \n",
      "2    0      0    0    1    0     0  \n",
      "3    0      0    0    0    0     1  \n",
      "4    0      0    0    1    0     0  \n"
     ]
    }
   ],
   "source": [
    "# Get Dummies of the target column\n",
    "songs_df = pd.get_dummies(songs_df, columns=cat_features+[\"playlist_genre\"])\n",
    "rename_dict = {\n",
    "    'playlist_genre_edm': 'edm',\n",
    "    'playlist_genre_latin': 'latin',\n",
    "    'playlist_genre_pop': 'pop',\n",
    "    'playlist_genre_r&b': 'r&b',\n",
    "    'playlist_genre_rap': 'rap',\n",
    "    'playlist_genre_rock': 'rock'\n",
    "}\n",
    "songs_df.rename(columns=rename_dict, inplace=True)\n",
    "\n",
    "# Updated list of genres after renaming\n",
    "playlist_genre = list(rename_dict.values())\n",
    "\n",
    "# Print the first few rows of the selected features\n",
    "print(songs_df.head())"
   ]
  },
  {
   "cell_type": "code",
   "execution_count": 6,
   "id": "8bdcfb25",
   "metadata": {},
   "outputs": [
    {
     "data": {
      "text/html": [
       "<div>\n",
       "<style scoped>\n",
       "    .dataframe tbody tr th:only-of-type {\n",
       "        vertical-align: middle;\n",
       "    }\n",
       "\n",
       "    .dataframe tbody tr th {\n",
       "        vertical-align: top;\n",
       "    }\n",
       "\n",
       "    .dataframe thead th {\n",
       "        text-align: right;\n",
       "    }\n",
       "</style>\n",
       "<table border=\"1\" class=\"dataframe\">\n",
       "  <thead>\n",
       "    <tr style=\"text-align: right;\">\n",
       "      <th></th>\n",
       "      <th>track_popularity</th>\n",
       "      <th>danceability</th>\n",
       "      <th>energy</th>\n",
       "      <th>key</th>\n",
       "      <th>loudness</th>\n",
       "      <th>mode</th>\n",
       "      <th>speechiness</th>\n",
       "      <th>acousticness</th>\n",
       "      <th>instrumentalness</th>\n",
       "      <th>liveness</th>\n",
       "      <th>valence</th>\n",
       "      <th>tempo</th>\n",
       "      <th>duration_ms</th>\n",
       "    </tr>\n",
       "  </thead>\n",
       "  <tbody>\n",
       "    <tr>\n",
       "      <th>0</th>\n",
       "      <td>0.45</td>\n",
       "      <td>0.528993</td>\n",
       "      <td>0.788963</td>\n",
       "      <td>0.000000</td>\n",
       "      <td>0.811579</td>\n",
       "      <td>1.0</td>\n",
       "      <td>0.047059</td>\n",
       "      <td>0.004940</td>\n",
       "      <td>0.000013</td>\n",
       "      <td>0.081928</td>\n",
       "      <td>0.418769</td>\n",
       "      <td>0.726804</td>\n",
       "      <td>0.413279</td>\n",
       "    </tr>\n",
       "    <tr>\n",
       "      <th>1</th>\n",
       "      <td>0.17</td>\n",
       "      <td>0.662258</td>\n",
       "      <td>0.660941</td>\n",
       "      <td>0.818182</td>\n",
       "      <td>0.734300</td>\n",
       "      <td>1.0</td>\n",
       "      <td>0.055664</td>\n",
       "      <td>0.266600</td>\n",
       "      <td>0.003149</td>\n",
       "      <td>0.106426</td>\n",
       "      <td>0.493441</td>\n",
       "      <td>0.653070</td>\n",
       "      <td>0.729272</td>\n",
       "    </tr>\n",
       "    <tr>\n",
       "      <th>2</th>\n",
       "      <td>0.30</td>\n",
       "      <td>0.651068</td>\n",
       "      <td>0.757958</td>\n",
       "      <td>0.909091</td>\n",
       "      <td>0.864237</td>\n",
       "      <td>1.0</td>\n",
       "      <td>0.174292</td>\n",
       "      <td>0.669014</td>\n",
       "      <td>0.000000</td>\n",
       "      <td>0.127510</td>\n",
       "      <td>0.940464</td>\n",
       "      <td>0.361381</td>\n",
       "      <td>0.416582</td>\n",
       "    </tr>\n",
       "    <tr>\n",
       "      <th>3</th>\n",
       "      <td>0.35</td>\n",
       "      <td>0.404883</td>\n",
       "      <td>0.965994</td>\n",
       "      <td>0.363636</td>\n",
       "      <td>0.923999</td>\n",
       "      <td>0.0</td>\n",
       "      <td>0.049346</td>\n",
       "      <td>0.000006</td>\n",
       "      <td>0.000000</td>\n",
       "      <td>0.304217</td>\n",
       "      <td>0.524723</td>\n",
       "      <td>0.375944</td>\n",
       "      <td>0.397415</td>\n",
       "    </tr>\n",
       "    <tr>\n",
       "      <th>4</th>\n",
       "      <td>0.62</td>\n",
       "      <td>0.454730</td>\n",
       "      <td>0.624934</td>\n",
       "      <td>0.909091</td>\n",
       "      <td>0.801207</td>\n",
       "      <td>0.0</td>\n",
       "      <td>0.351852</td>\n",
       "      <td>0.035312</td>\n",
       "      <td>0.000731</td>\n",
       "      <td>0.243976</td>\n",
       "      <td>0.263370</td>\n",
       "      <td>0.280254</td>\n",
       "      <td>0.848588</td>\n",
       "    </tr>\n",
       "  </tbody>\n",
       "</table>\n",
       "</div>"
      ],
      "text/plain": [
       "   track_popularity  danceability    energy       key  loudness  mode  \\\n",
       "0              0.45      0.528993  0.788963  0.000000  0.811579   1.0   \n",
       "1              0.17      0.662258  0.660941  0.818182  0.734300   1.0   \n",
       "2              0.30      0.651068  0.757958  0.909091  0.864237   1.0   \n",
       "3              0.35      0.404883  0.965994  0.363636  0.923999   0.0   \n",
       "4              0.62      0.454730  0.624934  0.909091  0.801207   0.0   \n",
       "\n",
       "   speechiness  acousticness  instrumentalness  liveness   valence     tempo  \\\n",
       "0     0.047059      0.004940          0.000013  0.081928  0.418769  0.726804   \n",
       "1     0.055664      0.266600          0.003149  0.106426  0.493441  0.653070   \n",
       "2     0.174292      0.669014          0.000000  0.127510  0.940464  0.361381   \n",
       "3     0.049346      0.000006          0.000000  0.304217  0.524723  0.375944   \n",
       "4     0.351852      0.035312          0.000731  0.243976  0.263370  0.280254   \n",
       "\n",
       "   duration_ms  \n",
       "0     0.413279  \n",
       "1     0.729272  \n",
       "2     0.416582  \n",
       "3     0.397415  \n",
       "4     0.848588  "
      ]
     },
     "execution_count": 6,
     "metadata": {},
     "output_type": "execute_result"
    }
   ],
   "source": [
    "# Normalization on predictors\n",
    "x = songs_df[num_features]\n",
    "songs_df[num_features] = (x - x.min())/(x.max() - x.min())\n",
    "songs_df[num_features].head()"
   ]
  },
  {
   "cell_type": "markdown",
   "id": "1464b22f",
   "metadata": {},
   "source": [
    "## Create data"
   ]
  },
  {
   "cell_type": "code",
   "execution_count": 7,
   "id": "3140698c",
   "metadata": {},
   "outputs": [],
   "source": [
    "x = np.array(songs_df.drop(playlist_genre, axis=1))\n",
    "y = np.array(songs_df[playlist_genre])\n",
    "\n",
    "x = torch.tensor(x, dtype=torch.float32)\n",
    "y = torch.tensor(y, dtype=torch.float32)"
   ]
  },
  {
   "cell_type": "markdown",
   "id": "412b2ff5",
   "metadata": {},
   "source": [
    "## Split Data\n",
    "\n",
    "Split data X, Y into training and test data.\n",
    "\n",
    "Further split training data into D1 and D2, where D1 is used to train predictive model and D2 is used to calibrate prediction set."
   ]
  },
  {
   "cell_type": "code",
   "execution_count": 8,
   "id": "d532b33a",
   "metadata": {},
   "outputs": [],
   "source": [
    "ntrain = 25000\n",
    "n1 = 20000\n",
    "\n",
    "x_train = x[:ntrain]\n",
    "x_test = x[ntrain:]\n",
    "\n",
    "y_train = y[:ntrain]\n",
    "y_test = y[ntrain:]\n",
    "\n",
    "# split based on n1\n",
    "x_train1 = x_train[:n1]\n",
    "y_train1 = y_train[:n1]\n",
    "\n",
    "x_train2 = x_train[n1:]\n",
    "y_train2 = y_train[n1:]"
   ]
  },
  {
   "cell_type": "markdown",
   "id": "82e272d4",
   "metadata": {},
   "source": [
    "## Neural Network\n",
    "\n",
    "Create a feed-forward neural network to predict movie genres"
   ]
  },
  {
   "cell_type": "code",
   "execution_count": 9,
   "id": "b0908491",
   "metadata": {},
   "outputs": [],
   "source": [
    "class SongNet(nn.Module):\n",
    "    def __init__(self, input_dim, hidden_dims, out_dim):\n",
    "        super(SongNet, self).__init__()\n",
    "        self.layers = nn.Sequential(\n",
    "            nn.Linear(input_dim, hidden_dims[0]),\n",
    "            nn.ReLU(),\n",
    "            nn.Linear(hidden_dims[0], hidden_dims[1]),\n",
    "            nn.ReLU(),\n",
    "            nn.Linear(hidden_dims[1], out_dim),\n",
    "            nn.Sigmoid()\n",
    "        )\n",
    "\n",
    "    def forward(self, x):\n",
    "        return self.layers(x)"
   ]
  },
  {
   "cell_type": "code",
   "execution_count": 10,
   "id": "2346b00b",
   "metadata": {},
   "outputs": [],
   "source": [
    "def accuracy_fn(y_true, y_pred, threshold=0.5):\n",
    "    # Apply a threshold to y_pred to convert probabilities to binary predictions\n",
    "    y_pred_thresh = (y_pred > threshold).float()\n",
    "    correct = torch.eq(y_true, y_pred_thresh).sum().item()\n",
    "    total = y_true.numel()\n",
    "    acc = (correct / total) * 100\n",
    "    return acc"
   ]
  },
  {
   "cell_type": "markdown",
   "id": "4ec12b05",
   "metadata": {},
   "source": [
    "Train the neural network to predict movie genres"
   ]
  },
  {
   "cell_type": "code",
   "execution_count": 12,
   "id": "3ab5d90c",
   "metadata": {},
   "outputs": [
    {
     "name": "stdout",
     "output_type": "stream",
     "text": [
      "Epoch 0, Loss: 0.4330, Accuracy: 82.96%\n",
      "Epoch 50, Loss: 0.3106, Accuracy: 85.71%\n",
      "Epoch 100, Loss: 0.3791, Accuracy: 86.26%\n",
      "Epoch 150, Loss: 0.3865, Accuracy: 86.47%\n"
     ]
    }
   ],
   "source": [
    "## train neural network to predict genres\n",
    "train_loss = []\n",
    "train_acc = []\n",
    "train_data = TensorDataset(x_train1, y_train1)\n",
    "train_loader = DataLoader(train_data, batch_size=20, shuffle=True)\n",
    "\n",
    "epochs = 200\n",
    "hidden_dims = [32, 16]\n",
    "\n",
    "# train the neural network with the given specifications.\n",
    "model = SongNet(x.shape[1], hidden_dims, len(playlist_genre))\n",
    "\n",
    "## send the model to the GPU if available\n",
    "model = model.to(device)\n",
    "\n",
    "lr = 0.001\n",
    "optimizer = optim.Adam(model.parameters(), lr=lr)\n",
    "\n",
    "for epoch in range(epochs):\n",
    "    model.train()  # set the model to training mode\n",
    "    batch_loss = []\n",
    "    batch_acc = []\n",
    "    \n",
    "    for x_batch, y_batch in train_loader:\n",
    "        # Send data to the device\n",
    "        x_batch, y_batch = x_batch.to(device), y_batch.to(device)\n",
    "        \n",
    "        y_pred = model(x_batch)\n",
    "        acc = accuracy_fn(y_batch, y_pred)\n",
    "        \n",
    "        loss = F.binary_cross_entropy(y_pred, y_batch)\n",
    "        loss.backward()\n",
    "        optimizer.step()\n",
    "        optimizer.zero_grad()\n",
    "        \n",
    "        batch_loss.append(loss.item())\n",
    "        batch_acc.append(acc)\n",
    "        \n",
    "    epoch_loss = np.mean(batch_loss)\n",
    "    epoch_acc = np.mean(batch_acc)\n",
    "    train_loss.append(epoch_loss)\n",
    "    train_acc.append(epoch_acc)\n",
    "    \n",
    "    if epoch % 50 == 0:\n",
    "        print(f'Epoch {epoch}, Loss: {loss.item():.4f}, Accuracy: {epoch_acc:.2f}%')"
   ]
  },
  {
   "cell_type": "markdown",
   "id": "dee75504",
   "metadata": {},
   "source": [
    "### Loss vs. Training iteration plot"
   ]
  },
  {
   "cell_type": "code",
   "execution_count": 13,
   "id": "e28b82ee",
   "metadata": {},
   "outputs": [
    {
     "data": {
      "image/png": "[encoded data removed]",
      "text/plain": [
       "<Figure size 640x480 with 1 Axes>"
      ]
     },
     "metadata": {},
     "output_type": "display_data"
    }
   ],
   "source": [
    "train_loss = [loss.item() for loss in train_loss]\n",
    "plt.plot(train_loss)\n",
    "\n",
    "# Adding title and labels (optional)\n",
    "plt.title(\"Plot of Training iteration v.s. Loss\")\n",
    "plt.xlabel(\"Training iteration\")\n",
    "plt.ylabel(\"Loss\")\n",
    "\n",
    "# Display the plot\n",
    "plt.show()"
   ]
  },
  {
   "cell_type": "markdown",
   "id": "8824d7f9",
   "metadata": {},
   "source": [
    "## Conformal Prediction"
   ]
  },
  {
   "cell_type": "markdown",
   "id": "0dc87e1c",
   "metadata": {},
   "source": [
    "Recall we have 5 genres.\n",
    "* `outcome` is a 5-dimensional binary list or tuple.\n",
    "* `probs` is a 5-dimensional list of probability of each genre.\n",
    "\n",
    "We have the following functions:\n",
    "* `computeScore` compute non-conformity score of an outcome, based on predicted probabilities\n",
    "* `computeConformalSet` computes the prediction set"
   ]
  },
  {
   "cell_type": "code",
   "execution_count": 14,
   "id": "01bc5a9b",
   "metadata": {},
   "outputs": [],
   "source": [
    "# sequence: list of binary values, each value corresponds to an outcome (e.g., whether a movie belongs to a certain genre).\n",
    "# probs: list of probabilities, each value is the probability of the corresponding outcome being 1.\n",
    "# The function iterates through each outcome in the sequence.\n",
    "# - For each outcome, check if the outcome is 1 (presence of a genre) or 0 (absence).\n",
    "# --- If outcome is 1, takes the corresponding probability from probs.\n",
    "# --- If outcome is 0, calculates (1 - probability) to get the probability of the outcome not occurring.\n",
    "# - All these probabilities are then multiplied together to get the joint probability of the entire sequence.\n",
    "# thus calculates the probability of a specific combination of genres being present or absent for a movie.\n",
    "def computeProbability(sequence, probs):\n",
    "    return(np.prod([probs[i] if sequence[i] == 1 else 1 - probs[i] for i in range(len(sequence))]))\n",
    "\n",
    "# uses actual outcome and predicted probabilities to compute score, \n",
    "# based on how unlikely observed outcome is (given predicted probabilities).\n",
    "def computeScore(my_outcome, probs):\n",
    "    all_outcomes = list(itertools.product([0,1], repeat=len(probs)))\n",
    "    sorted_outcomes = sorted(all_outcomes, key=lambda x: computeProbability(x, probs), reverse=True)\n",
    "    \n",
    "    # Find the index of my_outcome in sorted_outcomes\n",
    "    my_outcome_index = sorted_outcomes.index(tuple(my_outcome.numpy()))\n",
    "    \n",
    "    # Take the part of sorted_outcomes from first element until we include my_outcome\n",
    "    selected_sorted_outcomes = sorted_outcomes[:my_outcome_index + 1]\n",
    "    \n",
    "    sorted_probs = [computeProbability(outcome, probs) for outcome in selected_sorted_outcomes] \n",
    "    \n",
    "    # Compute the non-conformity score as the sum of probabilities up to and including my_outcome\n",
    "    score = sum(sorted_probs)\n",
    "    \n",
    "    # score = -computeProbability(my_outcome, probs)\n",
    "    # print(my_outcome, score)\n",
    "    \n",
    "    return score\n",
    "\n",
    "\n",
    "def computeConformalSet(probs, scores, alpha):\n",
    "    n2 = len(scores)\n",
    "    threshold = np.quantile(scores, 1 - alpha)\n",
    "\n",
    "    all_outcomes = list(itertools.product([0,1], repeat=len(probs)))\n",
    "    sorted_outcomes = sorted(all_outcomes, key=lambda x: computeProbability(x, probs), reverse=True)\n",
    "    \n",
    "    # compute element-wise probaility\n",
    "    sorted_probs = [computeProbability(outcome, probs) for outcome in sorted_outcomes] \n",
    "    cumulative_probs = np.cumsum(sorted_probs)\n",
    "\n",
    "    conformal_ix = np.where(cumulative_probs > threshold)[0][0]\n",
    "    conformal_prediction_set = sorted_outcomes[:conformal_ix+1]\n",
    "\n",
    "    return(conformal_prediction_set)\n",
    "\n",
    "\n",
    "## used to more easily display the conformal prediction set\n",
    "def confGenreSet(conf_set, genres_to_predict):\n",
    "    return( [ [genres_to_predict[i] for i in range(len(conf_set[k])) \n",
    "        if conf_set[k][i] == 1] for k in range(len(conf_set)) ] )"
   ]
  },
  {
   "cell_type": "markdown",
   "id": "9092345a",
   "metadata": {},
   "source": [
    "Compute the non-conformity scores on D2."
   ]
  },
  {
   "cell_type": "code",
   "execution_count": 15,
   "id": "f0bf672b",
   "metadata": {},
   "outputs": [],
   "source": [
    "y_pred2 = model(x_train2.to(device))\n",
    "y_pred2 = y_pred2.detach().cpu().numpy()\n",
    "\n",
    "scores = np.zeros(ntrain-n1)\n",
    "for j in range(ntrain-n1): \n",
    "    # iterates over each example in D2 (ntrain-n1 times).\n",
    "    scores[j] = computeScore(y_train2[j], y_pred2[j])"
   ]
  },
  {
   "cell_type": "code",
   "execution_count": 16,
   "id": "4ccb7e54",
   "metadata": {},
   "outputs": [
    {
     "name": "stdout",
     "output_type": "stream",
     "text": [
      "Adjusted threshold:  0.8456668269859082\n"
     ]
    }
   ],
   "source": [
    "alpha = 0.2\n",
    "\n",
    "print(\"Adjusted threshold: \", np.quantile(scores, 1-alpha))"
   ]
  },
  {
   "cell_type": "markdown",
   "id": "ba4bb886",
   "metadata": {},
   "source": [
    "Check whether our conformal prediction set has the desired coverage guarantee on test data."
   ]
  },
  {
   "cell_type": "code",
   "execution_count": 17,
   "id": "80f62ee8",
   "metadata": {},
   "outputs": [
    {
     "name": "stdout",
     "output_type": "stream",
     "text": [
      "Actual genres:  ['pop']\n",
      "Prediction set:  [['rap'], [], ['latin', 'rap'], ['latin'], ['edm', 'rap']]\n",
      "\n",
      "Actual genres:  ['r&b']\n",
      "Prediction set:  [[], ['pop'], ['rock'], ['latin'], ['pop', 'rock']]\n",
      "\n",
      "Actual genres:  ['pop']\n",
      "Prediction set:  [['edm'], [], ['edm', 'pop']]\n",
      "\n",
      "Actual genres:  ['pop']\n",
      "Prediction set:  [['edm'], [], ['edm', 'pop']]\n",
      "\n",
      "Actual genres:  ['latin']\n",
      "Prediction set:  [['rap'], [], ['r&b', 'rap'], ['r&b'], ['latin', 'rap']]\n",
      "\n",
      "Actual genres:  ['r&b']\n",
      "Prediction set:  [['edm'], []]\n",
      "\n",
      "Actual genres:  ['latin']\n",
      "Prediction set:  [['rock'], ['latin', 'rock']]\n",
      "\n",
      "Actual genres:  ['pop']\n",
      "Prediction set:  [['rap'], [], ['latin', 'rap'], ['latin']]\n",
      "\n",
      "Actual genres:  ['edm']\n",
      "Prediction set:  [[], ['rock'], ['pop'], ['rap'], ['r&b'], ['pop', 'rock'], ['latin'], ['rap', 'rock'], ['r&b', 'rock'], ['latin', 'rock'], ['pop', 'rap'], ['pop', 'r&b']]\n",
      "\n",
      "Actual genres:  ['r&b']\n",
      "Prediction set:  [['rock'], [], ['pop', 'rock']]\n",
      "\n",
      "Actual genres:  ['pop']\n",
      "Prediction set:  [['r&b'], [], ['latin', 'r&b'], ['pop', 'r&b']]\n",
      "\n",
      "Actual genres:  ['edm']\n",
      "Prediction set:  [['latin'], [], ['latin', 'r&b'], ['latin', 'rap'], ['r&b']]\n",
      "\n",
      "Actual genres:  ['latin']\n",
      "Prediction set:  [['edm'], [], ['edm', 'pop']]\n",
      "\n",
      "Actual genres:  ['rap']\n",
      "Prediction set:  [['r&b'], [], ['pop', 'r&b'], ['r&b', 'rap'], ['pop'], ['edm', 'r&b']]\n",
      "\n",
      "Actual genres:  ['rap']\n",
      "Prediction set:  [['r&b'], [], ['r&b', 'rock'], ['rock']]\n",
      "\n",
      "Actual genres:  ['r&b']\n",
      "Prediction set:  [['rap'], [], ['r&b', 'rap']]\n",
      "\n",
      "Actual genres:  ['rap']\n",
      "Prediction set:  [['edm'], [], ['edm', 'pop'], ['edm', 'latin'], ['pop'], ['latin']]\n",
      "\n",
      "Actual genres:  ['rap']\n",
      "Prediction set:  [['edm'], ['edm', 'rap'], []]\n",
      "\n",
      "Actual genres:  ['latin']\n",
      "Prediction set:  [['rock'], [], ['r&b', 'rock'], ['r&b']]\n",
      "\n",
      "Actual genres:  ['pop']\n",
      "Prediction set:  [['rap'], [], ['latin', 'rap'], ['latin'], ['r&b', 'rap']]\n",
      "\n",
      "Actual genres:  ['pop']\n",
      "Prediction set:  [['rap'], [], ['r&b', 'rap'], ['r&b']]\n",
      "\n",
      "Actual genres:  ['r&b']\n",
      "Prediction set:  [[], ['pop'], ['latin'], ['rap'], ['edm'], ['latin', 'pop'], ['pop', 'rap']]\n",
      "\n",
      "Actual genres:  ['pop']\n",
      "Prediction set:  [['rock']]\n",
      "\n",
      "Actual genres:  ['rap']\n",
      "Prediction set:  [['latin'], [], ['latin', 'pop'], ['pop'], ['latin', 'r&b'], ['r&b']]\n",
      "\n",
      "Actual genres:  ['r&b']\n",
      "Prediction set:  [['rap'], [], ['r&b', 'rap'], ['latin', 'rap']]\n",
      "\n",
      "Actual genres:  ['latin']\n",
      "Prediction set:  [[], ['edm'], ['rap'], ['edm', 'rap'], ['rock'], ['pop']]\n",
      "\n",
      "Actual genres:  ['latin']\n",
      "Prediction set:  [[], ['r&b'], ['rap'], ['r&b', 'rap'], ['pop']]\n",
      "\n",
      "Actual genres:  ['latin']\n",
      "Prediction set:  [['rap'], [], ['r&b', 'rap'], ['r&b']]\n",
      "\n",
      "Actual genres:  ['rock']\n",
      "Prediction set:  [['edm'], [], ['edm', 'pop']]\n",
      "\n",
      "Actual genres:  ['pop']\n",
      "Prediction set:  [['edm'], []]\n",
      "\n",
      "Actual genres:  ['latin']\n",
      "Prediction set:  [['rock'], [], ['pop', 'rock'], ['pop'], ['latin', 'rock']]\n",
      "\n",
      "(1-alpha): 0.800    Percent covered: 0.845\n"
     ]
    }
   ],
   "source": [
    "ntest = 200\n",
    "covered = 0\n",
    "for i in range(ntest): # for each test example, predicts the genre probabilities\n",
    "    \n",
    "    cur_y_pred = model(x_test[i].to(device))\n",
    "    cur_y_pred = cur_y_pred.detach().cpu().numpy()\n",
    "\n",
    "    conf_set = computeConformalSet(cur_y_pred, scores, alpha)\n",
    "    \n",
    "    y_test_tuple = tuple(y_test[i].int().tolist())\n",
    "    \n",
    "    if (y_test_tuple in conf_set):\n",
    "        covered = covered + 1\n",
    "    else:\n",
    "        conf_genres = confGenreSet(conf_set, playlist_genre)\n",
    "\n",
    "        ## display mistake\n",
    "        print('Actual genres: ', [playlist_genre[j] for j in range(len(playlist_genre)) if y_test_tuple[j] == 1])\n",
    "        print('Prediction set: ', conf_genres)\n",
    "        print('')\n",
    "\n",
    "print(\"(1-alpha): %.3f    Percent covered: %.3f\" % (1-alpha, covered/ntest))"
   ]
  },
  {
   "cell_type": "markdown",
   "id": "29a8f0fd",
   "metadata": {},
   "source": [
    "### Explaination\n",
    "\n",
    "* (1-alpha): 0.8 suggests a confidence level of 80%. This means the model is designed to ensure, with 80% confidence, that the true label falls within the predicted set.\n",
    "\n",
    "* Percent covered: 0.845 means that in about 84.5% of cases, the model's set of predicted genres contains the actual genre.\n",
    "\n",
    "* These results show a model that provides a set of potential genres for each song, with an overall good coverage rate indicating that it's quite reliable in including the true genre within its prediction sets. However, the presence of multiple genres in the prediction sets also highlights some level of uncertainty in the model's predictions."
   ]
  },
  {
   "cell_type": "markdown",
   "id": "d2054f7f",
   "metadata": {},
   "source": [
    "## Hypothesis Test\n",
    "\n",
    "We would like to explore the relationship between specific song genres (Rock and Pop) and a particular musical attribute (Energy) which is a key factor in how a song is perceived and categorized.\n",
    "\n",
    "$$\n",
    "    H_0 : \\text{The distribution of energy levels in Rock songs is the same as in Pop songs.}\\\\\n",
    "    H_1 : \\text{The distribution of energy levels in Rock songs is different from that in Pop songs.}\n",
    "$$"
   ]
  },
  {
   "cell_type": "markdown",
   "id": "550c5d6a",
   "metadata": {},
   "source": [
    "Here we choose Independent Test\n",
    "* because it is suitable for comparing the means of two independent groups (in this case, Rock and Pop genres) to determine if there is a statistically significant difference between their average energy levels. This test is appropriate when the data points are independent of each other, the dependent variable (energy) is continuous, and the data is approximately normally distributed."
   ]
  },
  {
   "cell_type": "markdown",
   "id": "749c46b3",
   "metadata": {},
   "source": [
    "### Data Preprocessing"
   ]
  },
  {
   "cell_type": "code",
   "execution_count": 18,
   "id": "89abb24d",
   "metadata": {},
   "outputs": [],
   "source": [
    "# Shuffle the rows\n",
    "energy_df = spotify_df.sample(frac=1, random_state=42).reset_index(drop=True)\n",
    "\n",
    "# Filter data for Rock and Pop genres\n",
    "rock_energy = energy_df[energy_df['playlist_genre'] == 'rock']['energy']\n",
    "pop_energy = energy_df[energy_df['playlist_genre'] == 'pop']['energy']\n",
    "\n",
    "# Create labels: Rock as 0, Pop as 1\n",
    "labels_rock = np.zeros(len(rock_energy))\n",
    "labels_pop = np.ones(len(pop_energy))\n",
    "\n",
    "# Combine data and labels\n",
    "x = np.concatenate([rock_energy, pop_energy]).reshape(-1, 1)\n",
    "y = np.concatenate([labels_rock, labels_pop])\n",
    "\n",
    "# Normalization on predictors\n",
    "x = (x - x.min())/(x.max() - x.min())\n",
    "\n",
    "# Convert to PyTorch tensors\n",
    "x_tensor = torch.tensor(x, dtype=torch.float32)\n",
    "y_tensor = torch.tensor(y, dtype=torch.float32)"
   ]
  },
  {
   "cell_type": "markdown",
   "id": "e2cc0266",
   "metadata": {},
   "source": [
    "### Neural Network"
   ]
  },
  {
   "cell_type": "code",
   "execution_count": 19,
   "id": "9a89ef33",
   "metadata": {},
   "outputs": [],
   "source": [
    "class NNet(nn.Module):\n",
    "    def __init__(self):\n",
    "        super(NNet, self).__init__()\n",
    "        self.sequential = nn.Sequential(\n",
    "            nn.Linear(1, 10),\n",
    "            nn.ReLU(),\n",
    "            nn.Linear(10, 1),\n",
    "            nn.Sigmoid())\n",
    "\n",
    "    def forward(self, x):\n",
    "        return self.sequential(x)\n",
    "\n",
    "def train_model(x, y, epochs=100):\n",
    "    net = NNet()\n",
    "    optimizer = optim.Adam(net.parameters(), lr=0.01)\n",
    "    loss_fn = nn.BCELoss()\n",
    "    \n",
    "    for epoch in range(epochs):\n",
    "        optimizer.zero_grad()\n",
    "        outputs = net(x).squeeze()\n",
    "        loss = loss_fn(outputs, y)\n",
    "        loss.backward()\n",
    "        optimizer.step()\n",
    "    \n",
    "    return loss.item()"
   ]
  },
  {
   "cell_type": "markdown",
   "id": "d9260945",
   "metadata": {},
   "source": [
    "### Permutation Test"
   ]
  },
  {
   "cell_type": "code",
   "execution_count": 20,
   "id": "ece29e19",
   "metadata": {},
   "outputs": [
    {
     "data": {
      "image/png": "[encoded data removed]",
      "text/plain": [
       "<Figure size 640x480 with 1 Axes>"
      ]
     },
     "metadata": {},
     "output_type": "display_data"
    },
    {
     "name": "stdout",
     "output_type": "stream",
     "text": [
      "Observed Loss: 0.6890\n",
      "P-Value: 0.0000\n"
     ]
    }
   ],
   "source": [
    "n_samples = len(x)\n",
    "obs_loss = train_model(x_tensor, y_tensor)\n",
    "\n",
    "# Permutation testing\n",
    "n_permutations = 300\n",
    "resampled_losses = []\n",
    "\n",
    "for _ in range(n_permutations):\n",
    "    permuted_y = y_tensor[torch.randperm(n_samples)]\n",
    "    resampled_loss = train_model(x_tensor, permuted_y)\n",
    "    resampled_losses.append(resampled_loss)\n",
    "\n",
    "# Calculate p-value\n",
    "p_value = sum([1 for loss in resampled_losses if loss <= obs_loss]) / n_permutations\n",
    "\n",
    "# Plot distribution of permuted test statistics\n",
    "plt.hist(resampled_losses, bins=20, alpha=0.7)\n",
    "plt.axvline(obs_loss, color='red', linestyle='dashed', linewidth=2)\n",
    "plt.title('Permutation Test Results')\n",
    "plt.xlabel('Loss')\n",
    "plt.ylabel('Frequency')\n",
    "plt.show()\n",
    "\n",
    "print(f\"Observed Loss: {obs_loss:.4f}\")\n",
    "print(f\"P-Value: {p_value:.4f}\")"
   ]
  },
  {
   "cell_type": "markdown",
   "id": "3ec056d2",
   "metadata": {},
   "source": [
    "### Explaination\n",
    "\n",
    "* The p-value gives the probability of observing a loss as extreme as the actual observed loss under the null hypothesis. As shown, p-value is significantly smaller than 0.05, which suggests rejecting the null hypothesis. Hence the histogram follows. Therefore, it indicates a significant difference between the energy levels of Rock and Pop songs."
   ]
  },
  {
   "cell_type": "code",
   "execution_count": null,
   "id": "4f4e8d7d",
   "metadata": {},
   "outputs": [],
   "source": []
  }
 ],
 "metadata": {
  "kernelspec": {
   "display_name": "Python 3 (ipykernel)",
   "language": "python",
   "name": "python3"
  },
  "language_info": {
   "codemirror_mode": {
    "name": "ipython",
    "version": 3
   },
   "file_extension": ".py",
   "mimetype": "text/x-python",
   "name": "python",
   "nbconvert_exporter": "python",
   "pygments_lexer": "ipython3",
   "version": "3.9.13"
  }
 },
 "nbformat": 4,
 "nbformat_minor": 5
}
